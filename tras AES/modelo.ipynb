{
 "cells": [
  {
   "cell_type": "code",
   "execution_count": 56,
   "id": "c58e86e7",
   "metadata": {},
   "outputs": [],
   "source": [
    "# hola holiuwiu\n",
    "\n",
    "cell_index=(get_ipython().execution_count)"
   ]
  }
 ],
 "metadata": {},
 "nbformat": 4,
 "nbformat_minor": 5
}
