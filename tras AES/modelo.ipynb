{
 "cells": [
  {
   "cell_type": "code",
   "execution_count": 28,
   "id": "c9b07ac1",
   "metadata": {},
   "outputs": [],
   "source": [
    "# hola holiuwiu\n",
    "\n",
    "cell_index=(get_ipython().execution_count)"
   ]
  }
 ],
 "metadata": {},
 "nbformat": 4,
 "nbformat_minor": 5
}
